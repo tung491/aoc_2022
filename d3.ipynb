{
 "cells": [
  {
   "cell_type": "code",
   "execution_count": 3,
   "id": "1ac914d4",
   "metadata": {},
   "outputs": [],
   "source": [
    "def get_prioirty(c):\n",
    "    if ord(c) < ord('a'):\n",
    "        return ord(c) - ord('A') + 1 + 26\n",
    "    else:\n",
    "        return ord(c) - ord('a') + 1\n"
   ]
  },
  {
   "cell_type": "code",
   "execution_count": 11,
   "id": "765c5bce",
   "metadata": {},
   "outputs": [],
   "source": [
    "with open('d3.txt') as f:\n",
    "    items = f.read().splitlines()"
   ]
  },
  {
   "cell_type": "markdown",
   "id": "d409ab9c",
   "metadata": {},
   "source": [
    "# Part 1"
   ]
  },
  {
   "cell_type": "code",
   "execution_count": 12,
   "id": "6a8f0e18",
   "metadata": {},
   "outputs": [
    {
     "name": "stdout",
     "output_type": "stream",
     "text": [
      "8515\n"
     ]
    }
   ],
   "source": [
    "p = 0\n",
    "for l in items:\n",
    "\n",
    "    h1 = l[:len(l)//2]\n",
    "    h2 = l[len(l)//2:]\n",
    "    for c in h1:\n",
    "        if c in h2:\n",
    "            p += get_prioirty(c)\n",
    "            break\n",
    "\n",
    "print(p)\n"
   ]
  },
  {
   "cell_type": "markdown",
   "id": "c2e2c29f",
   "metadata": {},
   "source": [
    "# Part 2"
   ]
  },
  {
   "cell_type": "code",
   "execution_count": 15,
   "id": "900b9176",
   "metadata": {},
   "outputs": [
    {
     "name": "stdout",
     "output_type": "stream",
     "text": [
      "2434\n"
     ]
    }
   ],
   "source": [
    "p = 0\n",
    "for i in range(0, len(items), 3):\n",
    "    for c in items[i]:\n",
    "        if items[i+1].count(c) > 0 and items[i+2].count(c) > 0:\n",
    "            p += get_prioirty(c)\n",
    "            break\n",
    "\n",
    "print(p)\n"
   ]
  },
  {
   "cell_type": "code",
   "execution_count": null,
   "id": "fa2b4a66",
   "metadata": {},
   "outputs": [],
   "source": []
  }
 ],
 "metadata": {
  "kernelspec": {
   "display_name": "Python 3 (ipykernel)",
   "language": "python",
   "name": "python3"
  },
  "language_info": {
   "codemirror_mode": {
    "name": "ipython",
    "version": 3
   },
   "file_extension": ".py",
   "mimetype": "text/x-python",
   "name": "python",
   "nbconvert_exporter": "python",
   "pygments_lexer": "ipython3",
   "version": "3.10.9"
  }
 },
 "nbformat": 4,
 "nbformat_minor": 5
}
