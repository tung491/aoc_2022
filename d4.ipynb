{
 "cells": [
  {
   "cell_type": "code",
   "execution_count": 1,
   "id": "84d7d64c",
   "metadata": {},
   "outputs": [],
   "source": [
    "with open('d4.txt') as f:\n",
    "    input_data = f.read()"
   ]
  },
  {
   "cell_type": "code",
   "execution_count": 2,
   "id": "43de5b26",
   "metadata": {},
   "outputs": [],
   "source": [
    "def is_fully_contain(pair1, pair2):\n",
    "    if pair1[0] <= pair2[0] and pair1[1] >= pair2[1]:\n",
    "        return True\n",
    "    elif pair2[0] <= pair1[0] and pair2[1] >= pair1[1]:\n",
    "        return True\n",
    "    else: return False"
   ]
  },
  {
   "cell_type": "code",
   "execution_count": 3,
   "id": "8f0459a7",
   "metadata": {},
   "outputs": [],
   "source": [
    "pair1 = [1, 5]\n",
    "pair2= [4,6]"
   ]
  },
  {
   "cell_type": "code",
   "execution_count": 4,
   "id": "aebc08ca",
   "metadata": {},
   "outputs": [
    {
     "data": {
      "text/plain": [
       "False"
      ]
     },
     "execution_count": 4,
     "metadata": {},
     "output_type": "execute_result"
    }
   ],
   "source": [
    "is_fully_contain(pair1, pair2)"
   ]
  },
  {
   "cell_type": "code",
   "execution_count": 5,
   "id": "2997070a",
   "metadata": {},
   "outputs": [],
   "source": [
    "lines = input_data.splitlines()"
   ]
  },
  {
   "cell_type": "code",
   "execution_count": 6,
   "id": "44c47ba6",
   "metadata": {},
   "outputs": [],
   "source": [
    "def parse_pairs(pair):\n",
    "    return list(map(int, pair.split('-')))"
   ]
  },
  {
   "cell_type": "code",
   "execution_count": 7,
   "id": "f5c016d9",
   "metadata": {},
   "outputs": [],
   "source": [
    "def is_overlap(pair1, pair2):\n",
    "    return pair1[0] <= pair2[1] and pair1[1] >= pair2[0]"
   ]
  },
  {
   "cell_type": "markdown",
   "id": "a8238408",
   "metadata": {},
   "source": [
    "# Part 1"
   ]
  },
  {
   "cell_type": "code",
   "execution_count": 8,
   "id": "0b1bed4e",
   "metadata": {},
   "outputs": [],
   "source": [
    "count = 0\n",
    "for line in lines:\n",
    "    pair1, pair2 = line.split(',')\n",
    "    pair1 = parse_pairs(pair1)\n",
    "    pair2 = parse_pairs(pair2)\n",
    "    count += int(is_fully_contain(pair1, pair2))"
   ]
  },
  {
   "cell_type": "code",
   "execution_count": 9,
   "id": "fcc8143d",
   "metadata": {},
   "outputs": [
    {
     "data": {
      "text/plain": [
       "571"
      ]
     },
     "execution_count": 9,
     "metadata": {},
     "output_type": "execute_result"
    }
   ],
   "source": [
    "count"
   ]
  },
  {
   "cell_type": "markdown",
   "id": "08effe25",
   "metadata": {},
   "source": [
    "# Part 2"
   ]
  },
  {
   "cell_type": "code",
   "execution_count": 10,
   "id": "641d7b46",
   "metadata": {},
   "outputs": [],
   "source": [
    "count = 0\n",
    "for line in lines:\n",
    "    pair1, pair2 = line.split(',')\n",
    "    pair1 = parse_pairs(pair1)\n",
    "    pair2 = parse_pairs(pair2)\n",
    "    count += int(is_overlap(pair1, pair2))"
   ]
  },
  {
   "cell_type": "code",
   "execution_count": 11,
   "id": "84e3dd3b",
   "metadata": {},
   "outputs": [
    {
     "data": {
      "text/plain": [
       "917"
      ]
     },
     "execution_count": 11,
     "metadata": {},
     "output_type": "execute_result"
    }
   ],
   "source": [
    "count"
   ]
  },
  {
   "cell_type": "code",
   "execution_count": null,
   "id": "7b04768c",
   "metadata": {},
   "outputs": [],
   "source": []
  },
  {
   "cell_type": "code",
   "execution_count": null,
   "id": "3f9edcef",
   "metadata": {},
   "outputs": [],
   "source": []
  }
 ],
 "metadata": {
  "kernelspec": {
   "display_name": "Python 3 (ipykernel)",
   "language": "python",
   "name": "python3"
  },
  "language_info": {
   "codemirror_mode": {
    "name": "ipython",
    "version": 3
   },
   "file_extension": ".py",
   "mimetype": "text/x-python",
   "name": "python",
   "nbconvert_exporter": "python",
   "pygments_lexer": "ipython3",
   "version": "3.10.9"
  }
 },
 "nbformat": 4,
 "nbformat_minor": 5
}
