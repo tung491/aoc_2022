{
 "cells": [
  {
   "cell_type": "code",
   "execution_count": 4,
   "id": "2a11e4f6",
   "metadata": {},
   "outputs": [],
   "source": [
    "with open('d2.txt') as f:\n",
    "    data = f.read()\n",
    "lines = data.splitlines()"
   ]
  },
  {
   "cell_type": "code",
   "execution_count": 7,
   "id": "f1ec293a",
   "metadata": {},
   "outputs": [],
   "source": [
    "mapping = {\n",
    "    'A': (\"Rock\", 1),\n",
    "    'X': (\"Rock\", 1),\n",
    "    'B': (\"Paper\", 2),\n",
    "    'Y': (\"Paper\", 2),\n",
    "    'C': (\"Scissors\", 3),\n",
    "    'Z': (\"Scissors\", 3),\n",
    "}"
   ]
  },
  {
   "cell_type": "code",
   "execution_count": 8,
   "id": "bbad510e",
   "metadata": {},
   "outputs": [],
   "source": [
    "result_mapping = {\n",
    "    'A': {\n",
    "        'X': 3,\n",
    "        'Y': 6,\n",
    "        'Z': 0,\n",
    "    },\n",
    "    'B': {\n",
    "        'X': 0,\n",
    "        'Y': 3,\n",
    "        'Z': 6,\n",
    "    },\n",
    "    'C': {\n",
    "        'X': 6,\n",
    "        'Y': 0,\n",
    "        'Z': 3,\n",
    "    },\n",
    "}"
   ]
  },
  {
   "cell_type": "markdown",
   "id": "44377c7a",
   "metadata": {},
   "source": [
    "# Part 1"
   ]
  },
  {
   "cell_type": "code",
   "execution_count": 9,
   "id": "a7522bf2",
   "metadata": {},
   "outputs": [],
   "source": [
    "score = 0"
   ]
  },
  {
   "cell_type": "code",
   "execution_count": 11,
   "id": "8b173ec7",
   "metadata": {},
   "outputs": [],
   "source": [
    "for line in lines:\n",
    "    opponent, you = line.split()\n",
    "    score += result_mapping[opponent][you] + mapping[you][1]"
   ]
  },
  {
   "cell_type": "code",
   "execution_count": 13,
   "id": "dc479a95",
   "metadata": {},
   "outputs": [
    {
     "name": "stdout",
     "output_type": "stream",
     "text": [
      "13565\n"
     ]
    }
   ],
   "source": [
    "print(score)"
   ]
  },
  {
   "cell_type": "markdown",
   "id": "252e25ce",
   "metadata": {},
   "source": [
    "# Part 2"
   ]
  },
  {
   "cell_type": "code",
   "execution_count": 14,
   "id": "24cf3106",
   "metadata": {},
   "outputs": [],
   "source": [
    "mapping = {\n",
    "    'A': (\"Rock\", 1),\n",
    "    'X': (\"Loss\", 0),\n",
    "    'B': (\"Paper\", 2),\n",
    "    'Y': (\"Draw\", 3),\n",
    "    'C': (\"Scissors\", 3),\n",
    "    'Z': (\"Win\", 6),\n",
    "}"
   ]
  },
  {
   "cell_type": "code",
   "execution_count": 15,
   "id": "8b12ea72",
   "metadata": {},
   "outputs": [],
   "source": [
    "result_mapping = {\n",
    "    'A': {\n",
    "        'X': mapping['C'],\n",
    "        'Y': mapping['B'],\n",
    "        'Z': mapping['A'],\n",
    "    },\n",
    "    'B': {\n",
    "        'X': mapping['A'],\n",
    "        'Y': mapping['B'],\n",
    "        'Z': mapping['C'],\n",
    "    },\n",
    "    'C': {\n",
    "        'X': mapping['B'],\n",
    "        'Y': mapping['C'],\n",
    "        'Z': mapping['A'],\n",
    "    },\n",
    "}"
   ]
  },
  {
   "cell_type": "code",
   "execution_count": 17,
   "id": "5703df34",
   "metadata": {},
   "outputs": [],
   "source": [
    "score = 0\n",
    "for line in lines:\n",
    "    opponent, you = line.split()\n",
    "    score += result_mapping[opponent][you][1] + mapping[you][1]"
   ]
  },
  {
   "cell_type": "code",
   "execution_count": 18,
   "id": "37364d89",
   "metadata": {},
   "outputs": [
    {
     "data": {
      "text/plain": [
       "13196"
      ]
     },
     "execution_count": 18,
     "metadata": {},
     "output_type": "execute_result"
    }
   ],
   "source": [
    "score"
   ]
  },
  {
   "cell_type": "code",
   "execution_count": null,
   "id": "be475f54",
   "metadata": {},
   "outputs": [],
   "source": []
  }
 ],
 "metadata": {
  "kernelspec": {
   "display_name": "Python 3 (ipykernel)",
   "language": "python",
   "name": "python3"
  },
  "language_info": {
   "codemirror_mode": {
    "name": "ipython",
    "version": 3
   },
   "file_extension": ".py",
   "mimetype": "text/x-python",
   "name": "python",
   "nbconvert_exporter": "python",
   "pygments_lexer": "ipython3",
   "version": "3.10.9"
  }
 },
 "nbformat": 4,
 "nbformat_minor": 5
}
